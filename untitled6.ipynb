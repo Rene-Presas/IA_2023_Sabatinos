{
  "nbformat": 4,
  "nbformat_minor": 0,
  "metadata": {
    "colab": {
      "provenance": [],
      "authorship_tag": "ABX9TyMkvARp0K2z/RCxKbjj75Dl",
      "include_colab_link": true
    },
    "kernelspec": {
      "name": "python3",
      "display_name": "Python 3"
    },
    "language_info": {
      "name": "python"
    }
  },
  "cells": [
    {
      "cell_type": "markdown",
      "metadata": {
        "id": "view-in-github",
        "colab_type": "text"
      },
      "source": [
        "<a href=\"https://colab.research.google.com/github/Rene-Presas/IA_2023_Sabatinos/blob/main/untitled6.ipynb\" target=\"_parent\"><img src=\"https://colab.research.google.com/assets/colab-badge.svg\" alt=\"Open In Colab\"/></a>"
      ]
    },
    {
      "cell_type": "code",
      "execution_count": null,
      "metadata": {
        "colab": {
          "base_uri": "https://localhost:8080/"
        },
        "id": "SYwZP5t-Y1BO",
        "outputId": "8684eef9-935d-4c08-87e8-549bbc8137aa"
      },
      "outputs": [
        {
          "output_type": "stream",
          "name": "stdout",
          "text": [
            "Ingresa un número: 19\n",
            "El número  19  es impar\n"
          ]
        }
      ],
      "source": [
        "#Ejercicios en Python\n",
        "#René Alejandro Presas Rivera, 1969668, N1\n",
        "n = int(input(\"Ingresa un número: \"))\n",
        "if n % 2 == 0:\n",
        "   print(\"El número \",n,\" es par\")\n",
        "else:\n",
        "   print(\"El número \",n,\" es impar\")"
      ]
    },
    {
      "cell_type": "code",
      "source": [
        "cadena1 = []\n",
        "for i in range(0,5):\n",
        "    n = input(\"Ingresa un texto: \")\n",
        "    cadena1.append(n)\n",
        "cadena2 = cadena1[:]\n",
        "cadena2.reverse()\n",
        "print(cadena1)\n",
        "print(cadena2)"
      ],
      "metadata": {
        "colab": {
          "base_uri": "https://localhost:8080/"
        },
        "id": "sgRpXgXqhHIF",
        "outputId": "3ae98109-b8db-444a-e67c-a214f9f6a394"
      },
      "execution_count": null,
      "outputs": [
        {
          "output_type": "stream",
          "name": "stdout",
          "text": [
            "Ingresa un texto: 1\n",
            "Ingresa un texto: 2\n",
            "Ingresa un texto: 3\n",
            "Ingresa un texto: 4\n",
            "Ingresa un texto: 5\n",
            "['1', '2', '3', '4', '5']\n",
            "['5', '4', '3', '2', '1']\n"
          ]
        }
      ]
    },
    {
      "cell_type": "code",
      "source": [
        "import random;\n",
        "intentos = 0;\n",
        "print (\"JUEGO DE AZAR....\")\n",
        "x = random.randint (1, 20);\n",
        "print (\"Hola bienvenido a mi primer juego....\" )\n",
        "while intentos < 6:\n",
        "      intentos = intentos + 1\n",
        "print (\"Elige un numero del 1 al 20\")\n",
        "n = input()\n",
        "n = int (n)\n",
        "if n < x:\n",
        "   print(\"Tu numero es mas bajo\")\n",
        "if n > x:\n",
        "   print(\"Tu numero es mas alto\")\n",
        "if n == x:\n",
        "   break\n",
        "if n == x:\n",
        "   print(\"Eres un genio....\")\n",
        "   print(\"Lo lograste con %d intentos\" % (intentos))\n",
        "   print(\"Nos vemos....\")\n",
        "if n != x:\n",
        "   print(\"Has perdido, sera en otra oportunidad...\")\n",
        "   print (\"Nos vemos\")"
      ],
      "metadata": {
        "colab": {
          "base_uri": "https://localhost:8080/"
        },
        "id": "3L9f4_WLjDDb",
        "outputId": "2488acd9-9a8f-431d-eb06-59955003184e"
      },
      "execution_count": null,
      "outputs": [
        {
          "output_type": "stream",
          "name": "stdout",
          "text": [
            "JUEGO DE AZAR....\n",
            "Hola bienvenido a mi primer juego....\n",
            "Elige un numero del 1 al 20\n"
          ]
        }
      ]
    },
    {
      "cell_type": "code",
      "source": [
        "lower_value = int(input(\"Por favor ingrese el valor más bajo: \"))\n",
        "upper_value = int(input(\"Por favor ingrese el número más alto: \"))\n",
        "print (\"Los números primos en el rango son: \")\n",
        "for n in range (lower_value, upper_value + 1):\n",
        "    if n > 1:\n",
        "       for i in range (2, n):\n",
        "           if (n % i) == 0:\n",
        "               break\n",
        "       else:\n",
        "           print (n)"
      ],
      "metadata": {
        "colab": {
          "base_uri": "https://localhost:8080/"
        },
        "id": "7zN2NkCOrDYX",
        "outputId": "2f27ffab-44f6-4ac0-8be4-a4685face0e6"
      },
      "execution_count": null,
      "outputs": [
        {
          "output_type": "stream",
          "name": "stdout",
          "text": [
            "Por favor ingrese el valor más bajo: 1\n",
            "Por favor ingrese el número más alto: 50\n",
            "Los números primos en el rango son: \n",
            "2\n",
            "3\n",
            "5\n",
            "7\n",
            "11\n",
            "13\n",
            "17\n",
            "19\n",
            "23\n",
            "29\n",
            "31\n",
            "37\n",
            "41\n",
            "43\n",
            "47\n"
          ]
        }
      ]
    }
  ]
}